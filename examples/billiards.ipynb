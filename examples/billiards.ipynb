{
 "cells": [
  {
   "cell_type": "markdown",
   "metadata": {},
   "source": [
    "# Triangle Billiards"
   ]
  },
  {
   "cell_type": "code",
   "execution_count": null,
   "metadata": {},
   "outputs": [],
   "source": [
    "from ipyvue_flatsurf import Widget\n",
    "from flatsurf import translation_surfaces, polygons, similarity_surfaces, GL2ROrbitClosure"
   ]
  },
  {
   "cell_type": "markdown",
   "metadata": {},
   "source": [
    "## Iterate over all triples (a, b, c)"
   ]
  },
  {
   "cell_type": "code",
   "execution_count": null,
   "metadata": {},
   "outputs": [],
   "source": [
    "def ngons(vertices):\n",
    "    from itertools import count\n",
    "    for N in count(vertices):\n",
    "        def partitions(N, M):\n",
    "            if M == 1:\n",
    "                yield [N]\n",
    "                return\n",
    "            for head in range(1, N // M + 1):\n",
    "                for tail in partitions(N - head, M - 1):\n",
    "                    yield [head] + tail\n",
    "        \n",
    "        for angles in partitions(N, vertices):\n",
    "            if (sorted(angles) != angles):\n",
    "                # Only consider tuples with a <= b <= c.\n",
    "                continue\n",
    "            if gcd(angles) != 1:\n",
    "                # Only consider tuples with coprime angles.\n",
    "                continue\n",
    "            if any(a >= 2 * N / (vertices - 2) for a in angles):\n",
    "                # Do not allow angles of 2π (or more.)\n",
    "                continue\n",
    "            if any(a == N / (vertices - 2) for a in angles):\n",
    "                # Ignore π angles\n",
    "                continue\n",
    "\n",
    "            yield angles\n",
    "\n",
    "triangles = ngons(vertices=3)"
   ]
  },
  {
   "cell_type": "markdown",
   "metadata": {},
   "source": [
    "## Unfold the triangle (a, b, c)\n",
    "Run this cell several times, to see iterate through all the triangles."
   ]
  },
  {
   "cell_type": "code",
   "execution_count": null,
   "metadata": {},
   "outputs": [],
   "source": [
    "(a, b, c) = next(triangles)\n",
    "print(f\"angles = {a,b,c}\")\n",
    "t = polygons.triangle(a, b, c)\n",
    "B = similarity_surfaces.billiard(t)\n",
    "S = B.minimal_cover('translation')\n",
    "S"
   ]
  },
  {
   "cell_type": "markdown",
   "metadata": {},
   "source": [
    "## Compute a Flow Decomposition\n",
    "We pick a saddle connection and compute the flow decomposition in that direction.\n",
    "Note that the decomposition is computed (and shown) on a Delaunay triangulation of the surface after deleting marked points."
   ]
  },
  {
   "cell_type": "code",
   "execution_count": null,
   "metadata": {},
   "outputs": [],
   "source": [
    "O = GL2ROrbitClosure(S.erase_marked_points())\n",
    "Ds = O.decompositions(bound=64)"
   ]
  },
  {
   "cell_type": "code",
   "execution_count": null,
   "metadata": {},
   "outputs": [],
   "source": [
    "D = next(Ds)\n",
    "W = Widget(D)\n",
    "W"
   ]
  },
  {
   "cell_type": "markdown",
   "metadata": {},
   "source": [
    "## Pull Flow Decomposition back to Original Surface\n",
    "The coloring of the cylinders might be different in the two pictures. One is computed on a Delaunay triangulation and the other is not which can lead to different ordering (and therefore coloring) of the cylinders."
   ]
  },
  {
   "cell_type": "code",
   "execution_count": null,
   "metadata": {},
   "outputs": [],
   "source": [
    "from flatsurf.geometry.pyflatsurf_conversion import to_pyflatsurf, to_sage_ring\n",
    "deformation = to_pyflatsurf(S).eliminateMarkedPoints()\n",
    "O = GL2ROrbitClosure(deformation.codomain())\n",
    "direction = vector((to_sage_ring(D.vertical().vertical().x()), to_sage_ring(D.vertical().vertical().y())))\n",
    "D = O.decomposition(direction, limit=64)\n",
    "V = Widget(D, deformation=deformation.section())\n",
    "V"
   ]
  },
  {
   "cell_type": "markdown",
   "metadata": {},
   "source": [
    "## Export the Picture as an SVG\n",
    "Currently, the svg is available as `.svg` once the picture has rendered in the browser."
   ]
  },
  {
   "cell_type": "code",
   "execution_count": null,
   "metadata": {},
   "outputs": [],
   "source": [
    "with open(\"billiard.svg\", \"wb\") as svg:\n",
    "  svg.write((await V.svg).encode('utf-8'))"
   ]
  }
 ],
 "metadata": {
  "kernelspec": {
   "display_name": "SageMath 9.3",
   "language": "sage",
   "name": "sagemath"
  },
  "language_info": {
   "codemirror_mode": {
    "name": "ipython",
    "version": 3
   },
   "file_extension": ".py",
   "mimetype": "text/x-python",
   "name": "python",
   "nbconvert_exporter": "python",
   "pygments_lexer": "ipython3",
   "version": "3.9.7"
  }
 },
 "nbformat": 4,
 "nbformat_minor": 4
}
