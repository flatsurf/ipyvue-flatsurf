{
 "cells": [
  {
   "cell_type": "markdown",
   "id": "99e85a64",
   "metadata": {},
   "source": [
    "# Visualize Flow Decompositions\n",
    "\n",
    "In this notebook we look at the example of the unfolding of the (3, 4, 13) triangle.\n",
    "\n",
    "We deform this surface, find *interesting* directions for flow decompositions on this surface and then rescale to produce a nice presentation of the surface for these flow decompositions.\n",
    "\n",
    "Note that this notebook is mentioned as a reference in the Article [A new Orbit Closure in Genus 8](https://arxiv.org/abs/2110.05407). This notebook describes the techniques that were used to obtain the picture of the surface in this article. The \"proof\" of the statement of Theorem A.1 can be found in [this section](#Relations-between-Edges) of the notebook."
   ]
  },
  {
   "cell_type": "markdown",
   "id": "89a2594a",
   "metadata": {},
   "source": [
    "## Unfold a Polygon to create a Translation Surface"
   ]
  },
  {
   "cell_type": "code",
   "execution_count": null,
   "id": "5a8008f4",
   "metadata": {},
   "outputs": [],
   "source": [
    "from ipyvue_flatsurf import Widget\n",
    "from flatsurf import translation_surfaces, polygons, similarity_surfaces"
   ]
  },
  {
   "cell_type": "code",
   "execution_count": null,
   "id": "acd5f55a",
   "metadata": {
    "scrolled": true
   },
   "outputs": [],
   "source": [
    "t = polygons.triangle(3, 4, 13)\n",
    "B = similarity_surfaces.billiard(t)\n",
    "S = B.minimal_cover('translation')\n",
    "S = S.erase_marked_points()"
   ]
  },
  {
   "cell_type": "markdown",
   "id": "1155c8ba",
   "metadata": {},
   "source": [
    "## Visulation of a Flow Decomposition"
   ]
  },
  {
   "cell_type": "code",
   "execution_count": null,
   "id": "0494035a",
   "metadata": {},
   "outputs": [],
   "source": [
    "from flatsurf import GL2ROrbitClosure\n",
    "O = GL2ROrbitClosure(S)\n",
    "D = O.decomposition((1, 0))"
   ]
  },
  {
   "cell_type": "code",
   "execution_count": null,
   "id": "691d233d",
   "metadata": {},
   "outputs": [],
   "source": [
    "V = Widget(D)\n",
    "print(D)\n",
    "V"
   ]
  },
  {
   "cell_type": "markdown",
   "id": "651dbe8d",
   "metadata": {},
   "source": [
    "## Use the Same Glueings for Another Flow Decomposition\n",
    "Clicking on half edges in the above figure forces edges to be glued. The same gluings will then be replayed in the figure below."
   ]
  },
  {
   "cell_type": "markdown",
   "id": "ebe3f669",
   "metadata": {},
   "source": [
    "#### At the moment, this is not supported. (TODO)\n",
    "\n",
    "```py\n",
    "import ipywidgets\n",
    "\n",
    "DD = O.decomposition((0, 1))\n",
    "print(DD)\n",
    "W = Widget(DD)\n",
    "ipywidgets.link((V,'inner'), (W, 'forced'))\n",
    "W\n",
    "```"
   ]
  },
  {
   "cell_type": "markdown",
   "id": "2d2112c9",
   "metadata": {},
   "source": [
    "# Passing to a Deformed Surface"
   ]
  },
  {
   "cell_type": "markdown",
   "id": "620599af",
   "metadata": {},
   "source": [
    "We deform the surface with a vector from the tangent space so that this is not a billiard anymore."
   ]
  },
  {
   "cell_type": "code",
   "execution_count": null,
   "id": "d9944fa2",
   "metadata": {},
   "outputs": [],
   "source": [
    "for decomposition in O.decompositions(64):\n",
    "    O.update_tangent_space_from_flow_decomposition(decomposition)\n",
    "    if O.dimension() > 2: break\n",
    "\n",
    "tangent = O.lift(O.tangent_space_basis()[2])\n",
    "length = sum(abs(x.parent().number_field(x)) for x in tangent) / len(tangent)\n",
    "\n",
    "upper_bound = 1\n",
    "while upper_bound < length:\n",
    "    upper_bound *= 2\n",
    "    \n",
    "# Shrink the deformation somewhat more so we do not need too many flips.\n",
    "upper_bound *= 2\n",
    "\n",
    "print(f\"Deforming with a tangent of length approximately {upper_bound}\")"
   ]
  },
  {
   "cell_type": "code",
   "execution_count": null,
   "id": "ba38166f",
   "metadata": {},
   "outputs": [],
   "source": [
    "from flatsurf.geometry.pyflatsurf_conversion import from_pyflatsurf\n",
    "\n",
    "try:\n",
    "    deformation = [O.V2(x / upper_bound, x / (2*upper_bound)).vector for x in tangent]\n",
    "    deformed = from_pyflatsurf((O._surface + deformation).codomain()).delaunay_triangulation()\n",
    "except Exception:\n",
    "    print(\"The deformation crosses over a vertex. Trying with a smaller deformation.\")\n",
    "    upper_bound *= 2\n",
    "    \n",
    "deformed"
   ]
  },
  {
   "cell_type": "markdown",
   "id": "5a29511b",
   "metadata": {},
   "source": [
    "## Search for Interesting Directions to Visualize"
   ]
  },
  {
   "cell_type": "markdown",
   "id": "c25a5f40",
   "metadata": {},
   "source": [
    "Good directions might be ones where cylinders do not intersect much. To find such directions, we search for a direction with a cylinder and a minimal component, and among those, one with short cylinders."
   ]
  },
  {
   "cell_type": "code",
   "execution_count": null,
   "id": "d405249d",
   "metadata": {},
   "outputs": [],
   "source": [
    "O = GL2ROrbitClosure(deformed)\n",
    "\n",
    "v0 = None\n",
    "height = None\n",
    "\n",
    "for decomposition in O.decompositions_breadth_first(2):\n",
    "    print(\".\", end=\"\")\n",
    "    if len(decomposition.cylinders()) == 0:\n",
    "        continue\n",
    "    if len(decomposition.minimal_components()) == 0:\n",
    "        continue\n",
    "        \n",
    "    h = max(cylinder.height() for cylinder in decomposition.cylinders())\n",
    "    if height is None or h < height:\n",
    "        v0 = decomposition.u\n",
    "        height = h\n",
    "        print(f\"Found {decomposition} whose cylinders are shorter than {h}\")"
   ]
  },
  {
   "cell_type": "code",
   "execution_count": null,
   "id": "30c393db",
   "metadata": {},
   "outputs": [],
   "source": [
    "D = O.decomposition(v0)\n",
    "print(D)\n",
    "Widget(D.cylinders())"
   ]
  },
  {
   "cell_type": "markdown",
   "id": "3e3513a4",
   "metadata": {},
   "source": [
    "Find a second direction which decomposes differently and whose cylinders do not intersect the cylinders of the first direction."
   ]
  },
  {
   "cell_type": "code",
   "execution_count": null,
   "id": "126ed918",
   "metadata": {},
   "outputs": [],
   "source": [
    "T = D.decomposition.triangulation()\n",
    "OT = GL2ROrbitClosure(T)\n",
    "DT = OT.decomposition(v0)\n",
    "\n",
    "perimeter = [p.saddleConnection().source() for cylinder in DT.cylinders() for p in cylinder.perimeter() if p.vertical()]\n",
    "for p in perimeter[:]:\n",
    "    perimeter.append(-p)\n",
    "perimeter = set(perimeter)"
   ]
  },
  {
   "cell_type": "code",
   "execution_count": null,
   "id": "c84f8fac",
   "metadata": {},
   "outputs": [],
   "source": [
    "v1 = None\n",
    "intersections = None\n",
    "height = None\n",
    "\n",
    "for direction in GL2ROrbitClosure(deformed).decompositions_breadth_first(2):\n",
    "    print(\".\", end=\"\")\n",
    "    if direction.u == v0:\n",
    "        continue\n",
    "\n",
    "    if len(direction.cylinders()) == 0:\n",
    "        continue\n",
    "    if len(direction.minimal_components()) == 0:\n",
    "        continue\n",
    "\n",
    "    decomposition = OT.decomposition(direction.u)\n",
    "    \n",
    "    if len(decomposition.cylinders()) == len(D.cylinders()) and len(decomposition.minimal_components()) == len(D.minimal_components()):\n",
    "        pass\n",
    "    else:\n",
    "        OO = GL2ROrbitClosure(deformed)\n",
    "        OO.update_tangent_space_from_flow_decomposition(D)\n",
    "        dim = OO.dimension()\n",
    "        OO.update_tangent_space_from_flow_decomposition(direction)\n",
    "        if OO.dimension() == dim:\n",
    "            # This direction decomposes like the first one and it does not add anything to the tangent space.\n",
    "            continue\n",
    "\n",
    "    i = len([c for cylinder in decomposition.cylinders() for p in cylinder.perimeter() if p.vertical() for c in p.saddleConnection().crossings() if c in perimeter])\n",
    "    if intersections is None or i < intersections:\n",
    "        h = max(cylinder.height() for cylinder in decomposition.cylinders())\n",
    "        if height is None or h < height:\n",
    "            intersections = i\n",
    "            height = h\n",
    "            v1 = direction.u\n",
    "            print(f\"Found {decomposition} whose cylinders are shorter than {h} and intersect {i} times with the other cylinders.\")"
   ]
  },
  {
   "cell_type": "code",
   "execution_count": null,
   "id": "83ea3032",
   "metadata": {},
   "outputs": [],
   "source": [
    "DD = O.decomposition(v1)\n",
    "print(DD)\n",
    "Widget(DD.cylinders())"
   ]
  },
  {
   "cell_type": "markdown",
   "id": "c354687f",
   "metadata": {},
   "source": [
    "We can also show all cylinders in the same picture:"
   ]
  },
  {
   "cell_type": "code",
   "execution_count": null,
   "id": "0b741d0a",
   "metadata": {
    "scrolled": false
   },
   "outputs": [],
   "source": [
    "Widget(D.cylinders() + DD.cylinders())"
   ]
  },
  {
   "cell_type": "markdown",
   "id": "06dd9ad9",
   "metadata": {},
   "source": [
    "## Making the Search Directions Orthogonal"
   ]
  },
  {
   "cell_type": "code",
   "execution_count": null,
   "id": "50bc8c06",
   "metadata": {},
   "outputs": [],
   "source": [
    "A = matrix([v0, v1])\n",
    "E = matrix([[1, 0], [0, 1]])\n",
    "N = E * ~A.transpose()"
   ]
  },
  {
   "cell_type": "code",
   "execution_count": null,
   "id": "cfa89bee",
   "metadata": {},
   "outputs": [],
   "source": [
    "T = deformed.apply_matrix(N, in_place=False)\n",
    "T = T.delaunay_triangulation()"
   ]
  },
  {
   "cell_type": "code",
   "execution_count": null,
   "id": "50d150be",
   "metadata": {
    "scrolled": false
   },
   "outputs": [],
   "source": [
    "from flatsurf import GL2ROrbitClosure\n",
    "O = GL2ROrbitClosure(T)\n",
    "D = O.decomposition(E[0])\n",
    "DD = O.decomposition(E[1])\n",
    "W = Widget(D.cylinders() + DD.cylinders())\n",
    "W"
   ]
  },
  {
   "cell_type": "markdown",
   "id": "3f16ed61",
   "metadata": {},
   "source": [
    "## Relations between Edges\n",
    "Theorem A.1 of \"A new Orbit Closure in Genus 8\" states that some relations hold between the edges in the above picture."
   ]
  },
  {
   "cell_type": "code",
   "execution_count": null,
   "id": "bff2978b",
   "metadata": {},
   "outputs": [],
   "source": [
    "W.labels = 'NUMERIC'\n",
    "\n",
    "from flatsurf.geometry.pyflatsurf_conversion import to_pyflatsurf\n",
    "S = to_pyflatsurf(T)"
   ]
  },
  {
   "cell_type": "markdown",
   "id": "040c50a2",
   "metadata": {},
   "source": [
    "We check for the relevant edges that they are related as annouced:"
   ]
  },
  {
   "cell_type": "code",
   "execution_count": null,
   "id": "8d891199",
   "metadata": {},
   "outputs": [],
   "source": [
    "def relate(a, b):\n",
    "    a = S.fromHalfEdge(int(a))\n",
    "    b = S.fromHalfEdge(int(b))\n",
    "    assert a.x() * b.y() == a.y() * b.x()\n",
    "    return a.x() / b.x() if b.x() else a.y() / b.y()"
   ]
  },
  {
   "cell_type": "code",
   "execution_count": null,
   "id": "a9f1ac69",
   "metadata": {},
   "outputs": [],
   "source": [
    "print(relate(1, -26)) # U and V\n",
    "print(relate(14, 16)) # C and D\n",
    "print(relate(2, -12)) # B and A\n",
    "print(relate(22, -7)) # S and T"
   ]
  },
  {
   "cell_type": "markdown",
   "id": "7c12a3f5",
   "metadata": {},
   "source": [
    "### Passing to a Quotient\n",
    "Actually, that Theorem A.1 makes a statement about a quotient of that picture. That quotient can be determined as follows:"
   ]
  },
  {
   "cell_type": "code",
   "execution_count": null,
   "id": "a750c655",
   "metadata": {},
   "outputs": [],
   "source": [
    "def filter_map(a, b):\n",
    "    if a == 1R:\n",
    "        return b == -29R\n",
    "    return True\n",
    "\n",
    "isomorphism = S.isomorphism(S, filter_matrix=lambda a, b, c, d: True, filter_map=filter_map)\n",
    "assert isomorphism.has_value()"
   ]
  },
  {
   "cell_type": "code",
   "execution_count": null,
   "id": "c854e43d",
   "metadata": {},
   "outputs": [],
   "source": [
    "isomorphism.value()"
   ]
  },
  {
   "cell_type": "markdown",
   "id": "a72689d3",
   "metadata": {},
   "source": [
    "TODO: Visualize the surface module the quotient here again."
   ]
  },
  {
   "cell_type": "markdown",
   "id": "a56a7c3e",
   "metadata": {},
   "source": [
    "## Make Cylinders Aligned with Triangulation"
   ]
  },
  {
   "cell_type": "markdown",
   "id": "0e796822",
   "metadata": {},
   "source": [
    "Pass to a triangulation that is aligned with the cylinders."
   ]
  },
  {
   "cell_type": "code",
   "execution_count": null,
   "id": "a5c0f81c",
   "metadata": {},
   "outputs": [],
   "source": [
    "T = from_pyflatsurf(DD.decomposition.triangulation())\n",
    "T"
   ]
  },
  {
   "cell_type": "markdown",
   "id": "d4ea7ab9",
   "metadata": {},
   "source": [
    "Currently, the minimal components are triangulated in a way that respects their internal structure, see https://github.com/flatsurf/flatsurf/issues/272. This leads to very stretched out pictures.\n",
    "We Delaunay triangulate the interior of such components to make these components shorter."
   ]
  },
  {
   "cell_type": "code",
   "execution_count": null,
   "id": "7a7b27c5",
   "metadata": {},
   "outputs": [],
   "source": [
    "O = GL2ROrbitClosure(T)\n",
    "D = O.decomposition(E[1])\n",
    "S = D.decomposition.surface()\n",
    "noncylinders = D.minimal_components() + D.undetermined_components()\n",
    "\n",
    "inners = []\n",
    "\n",
    "for component in D.decomposition.components():\n",
    "    is_perimeter = lambda p: (component.cylinder() and p.vertical()) or (not component.cylinder() and not p.boundary())\n",
    "    perimeter = [connection.saddleConnection().source() for connection in component.perimeter() if is_perimeter(connection)]\n",
    "    \n",
    "    for p in component.perimeter():\n",
    "        connection = p.saddleConnection()\n",
    "        if connection != type(connection)(S, connection.source()):\n",
    "            print(\"Boundary of component not aligned with triangulation. Is this a bug in libflatsurf?\")\n",
    "        inner = connection.source()\n",
    "        if not is_perimeter(p):\n",
    "            inners.append(inner)\n",
    "            inners.append(-inner)\n",
    "        while True:\n",
    "            inner = S.nextAtVertex(inner)\n",
    "            if inner in perimeter or -inner in perimeter:\n",
    "                break\n",
    "            inners.append(inner)\n",
    "            inners.append(-inner)\n",
    "    \n",
    "while True:\n",
    "    for inner in inners:\n",
    "        import pyflatsurf\n",
    "        if S.delaunay(inner) == 0:\n",
    "            S.flip(inner)\n",
    "            break\n",
    "    else:\n",
    "        break\n",
    "        \n",
    "T = from_pyflatsurf(S)\n",
    "T"
   ]
  },
  {
   "cell_type": "code",
   "execution_count": null,
   "id": "b9776c37",
   "metadata": {},
   "outputs": [],
   "source": [
    "from flatsurf import GL2ROrbitClosure\n",
    "O = GL2ROrbitClosure(T)\n",
    "D = O.decomposition(E[0])\n",
    "DD = O.decomposition(E[1])\n",
    "print(D)\n",
    "print(DD)\n",
    "Widget(D.cylinders() + DD.cylinders())"
   ]
  },
  {
   "cell_type": "markdown",
   "id": "a547a2fb",
   "metadata": {},
   "source": [
    "Now the pictures might be very squeezed, so try to rescale to make things reasonable again."
   ]
  },
  {
   "cell_type": "code",
   "execution_count": null,
   "id": "5d49b0bd",
   "metadata": {},
   "outputs": [],
   "source": [
    "ratios = [float(c.width() / c.height()) for c in D.cylinders()] + [float(c.height() / c.width()) for c in DD.cylinders()]\n",
    "print(f\"Old aspect ratio of cylinders: {ratios}\")\n",
    "\n",
    "# We try to move everything simultaneously close to the same aspect ratio.\n",
    "target = float(1 / 1)\n",
    "\n",
    "# The factor we would have to multiply each cylinder with to make it there.\n",
    "distance = [target / ratio for ratio in ratios]\n",
    "\n",
    "# We average over these factors.\n",
    "scale = exp(sum([log(d) for d in distance]) / len(distance))\n",
    "\n",
    "# Turn the above factor into something that lives in the number field.\n",
    "scale = ZZ(ceil(scale * 1000)) / 1000\n",
    "ratios = [scale * ratio for ratio in ratios]\n",
    "\n",
    "print(f\"New aspect ratio of cylinders: {ratios}\")\n",
    "A = matrix([[scale, 0], [0, 1]])\n",
    "U = T.apply_matrix(A, in_place=False)"
   ]
  },
  {
   "cell_type": "markdown",
   "id": "25abc282",
   "metadata": {},
   "source": [
    "Glue cylinders in horizontal direction. At the moment this is not implemented anymore. (TODO)"
   ]
  },
  {
   "cell_type": "code",
   "execution_count": null,
   "id": "7c504d56",
   "metadata": {},
   "outputs": [],
   "source": [
    "O = GL2ROrbitClosure(U)\n",
    "D = O.decomposition(E[0])\n",
    "DD = O.decomposition(E[1])\n",
    "print(D)\n",
    "V = Widget(D.cylinders() + DD.cylinders())\n",
    "\n",
    "forced = []\n",
    "\n",
    "surface = D.decomposition.surface()\n",
    "for cylinder in D.cylinders():\n",
    "    for connection in cylinder.perimeter():\n",
    "        connection = connection.saddleConnection()\n",
    "        assert connection == type(connection)(surface, connection.source())\n",
    "        \n",
    "    perimeter = [connection.saddleConnection().source() for connection in cylinder.perimeter()]\n",
    "    inners = []\n",
    "    \n",
    "    for connection in cylinder.perimeter():\n",
    "        inner = connection.saddleConnection().source()\n",
    "        if not connection.vertical():\n",
    "            inners.append(inner)\n",
    "        while True:\n",
    "            inner = surface.nextAtVertex(inner)\n",
    "            if inner in perimeter or -inner in perimeter:\n",
    "                break\n",
    "            inners.append(inner)\n",
    "\n",
    "    # Force all inner edges except for the one least aligned to the flow direction.\n",
    "    def dot(he):\n",
    "        v = surface.fromHalfEdge(he)\n",
    "        return abs(float(v.x()) * float(E[0][0]) + float(v.y()) * float(E[0][1]))\n",
    "        \n",
    "    smallest = inners[0]\n",
    "    \n",
    "    for inner in inners:\n",
    "        if dot(inner) < dot(smallest):\n",
    "            smallest = inner\n",
    "\n",
    "    forced.extend(list(set([he.id() for he in inners if he != smallest and he != -smallest])))\n",
    "        \n",
    "V.forced = forced\n",
    "V"
   ]
  },
  {
   "cell_type": "markdown",
   "id": "8991173e",
   "metadata": {},
   "source": [
    "### Do these directions tell us about the full orbit closure?"
   ]
  },
  {
   "cell_type": "code",
   "execution_count": null,
   "id": "17f63a6d",
   "metadata": {},
   "outputs": [],
   "source": [
    "print(O)"
   ]
  },
  {
   "cell_type": "code",
   "execution_count": null,
   "id": "ac46ae04",
   "metadata": {},
   "outputs": [],
   "source": [
    "O.update_tangent_space_from_flow_decomposition(D)\n",
    "print(O)"
   ]
  },
  {
   "cell_type": "code",
   "execution_count": null,
   "id": "e3013595",
   "metadata": {},
   "outputs": [],
   "source": [
    "O.update_tangent_space_from_flow_decomposition(DD)\n",
    "print(O)"
   ]
  }
 ],
 "metadata": {
  "kernelspec": {
   "display_name": "SageMath 9.3",
   "language": "sage",
   "name": "sagemath"
  },
  "language_info": {
   "codemirror_mode": {
    "name": "ipython",
    "version": 3
   },
   "file_extension": ".py",
   "mimetype": "text/x-python",
   "name": "python",
   "nbconvert_exporter": "python",
   "pygments_lexer": "ipython3",
   "version": "3.9.7"
  }
 },
 "nbformat": 4,
 "nbformat_minor": 5
}
