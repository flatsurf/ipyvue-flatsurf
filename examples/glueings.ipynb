{
 "cells": [
  {
   "cell_type": "markdown",
   "id": "89a2594a",
   "metadata": {},
   "source": [
    "# Unfold a Polygon to create a Translation Surface"
   ]
  },
  {
   "cell_type": "code",
   "execution_count": null,
   "id": "5a8008f4",
   "metadata": {},
   "outputs": [],
   "source": [
    "from ipyvue_flatsurf import FlatSurface\n",
    "from flatsurf import translation_surfaces, polygons, similarity_surfaces"
   ]
  },
  {
   "cell_type": "code",
   "execution_count": null,
   "id": "acd5f55a",
   "metadata": {
    "scrolled": true
   },
   "outputs": [],
   "source": [
    "t = polygons.triangle(1, 1, 3)\n",
    "B = similarity_surfaces.billiard(t)\n",
    "S = B.minimal_cover('translation')"
   ]
  },
  {
   "cell_type": "markdown",
   "id": "1155c8ba",
   "metadata": {},
   "source": [
    "## A Visulation for a Flow Decomposition"
   ]
  },
  {
   "cell_type": "code",
   "execution_count": null,
   "id": "2cf86ce9",
   "metadata": {},
   "outputs": [],
   "source": [
    "directions = S.saddle_connections(1)\n",
    "v0 = directions[4].direction()\n",
    "v1 = directions[5].direction()"
   ]
  },
  {
   "cell_type": "code",
   "execution_count": null,
   "id": "0494035a",
   "metadata": {},
   "outputs": [],
   "source": [
    "from flatsurf import GL2ROrbitClosure\n",
    "O = GL2ROrbitClosure(S)\n",
    "D = O.decomposition(v0)"
   ]
  },
  {
   "cell_type": "code",
   "execution_count": null,
   "id": "691d233d",
   "metadata": {},
   "outputs": [],
   "source": [
    "V = FlatSurface(D)\n",
    "V"
   ]
  },
  {
   "cell_type": "markdown",
   "id": "651dbe8d",
   "metadata": {},
   "source": [
    "## Use the Same Glueings for Another Flow Decomposition"
   ]
  },
  {
   "cell_type": "code",
   "execution_count": null,
   "id": "f470ab63",
   "metadata": {},
   "outputs": [],
   "source": [
    "import ipywidgets\n",
    "\n",
    "D = O.decomposition(v1)\n",
    "W = FlatSurface(D)\n",
    "ipywidgets.link((V,'inner'), (W, 'forced'))\n",
    "W"
   ]
  },
  {
   "cell_type": "markdown",
   "id": "06dd9ad9",
   "metadata": {},
   "source": [
    "# Visualizing two Flow Decompositions as Orthogonal Directions"
   ]
  },
  {
   "cell_type": "code",
   "execution_count": null,
   "id": "cfa89bee",
   "metadata": {},
   "outputs": [],
   "source": [
    "A = matrix([v0, v1])\n",
    "G, M = A.gram_schmidt()\n",
    "N = G.transpose() * A.transpose().inverse()\n",
    "T = S.apply_matrix(N, in_place=False)\n",
    "T = T.delaunay_triangulation()"
   ]
  },
  {
   "cell_type": "code",
   "execution_count": null,
   "id": "50d150be",
   "metadata": {},
   "outputs": [],
   "source": [
    "from flatsurf import GL2ROrbitClosure\n",
    "O = GL2ROrbitClosure(T)\n",
    "D = O.decomposition((G[0][0], G[0][1]))\n",
    "V = FlatSurface(D)\n",
    "V"
   ]
  },
  {
   "cell_type": "code",
   "execution_count": null,
   "id": "4b378e73",
   "metadata": {},
   "outputs": [],
   "source": [
    "D = O.decomposition((G[1][0], G[1][1]))\n",
    "W = FlatSurface(D)\n",
    "ipywidgets.link((V,'inner'), (W, 'forced'))\n",
    "W"
   ]
  }
 ],
 "metadata": {
  "kernelspec": {
   "display_name": "SageMath 9.2",
   "language": "sage",
   "name": "sagemath"
  },
  "language_info": {
   "codemirror_mode": {
    "name": "ipython",
    "version": 3
   },
   "file_extension": ".py",
   "mimetype": "text/x-python",
   "name": "python",
   "nbconvert_exporter": "python",
   "pygments_lexer": "ipython3",
   "version": "3.9.5"
  }
 },
 "nbformat": 4,
 "nbformat_minor": 5
}
