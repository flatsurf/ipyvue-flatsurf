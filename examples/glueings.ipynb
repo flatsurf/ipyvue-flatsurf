{
 "cells": [
  {
   "cell_type": "markdown",
   "id": "99e85a64",
   "metadata": {},
   "source": [
    "# Simultaneously Visualize Flom Decompositions in Different Directions"
   ]
  },
  {
   "cell_type": "markdown",
   "id": "89a2594a",
   "metadata": {},
   "source": [
    "## Unfold a Polygon to create a Translation Surface"
   ]
  },
  {
   "cell_type": "code",
   "execution_count": null,
   "id": "5a8008f4",
   "metadata": {},
   "outputs": [],
   "source": [
    "from ipyvue_flatsurf import FlatSurface\n",
    "from flatsurf import translation_surfaces, polygons, similarity_surfaces"
   ]
  },
  {
   "cell_type": "code",
   "execution_count": null,
   "id": "acd5f55a",
   "metadata": {
    "scrolled": true
   },
   "outputs": [],
   "source": [
    "t = polygons.triangle(2, 3, 10)\n",
    "B = similarity_surfaces.billiard(t)\n",
    "S = B.minimal_cover('translation')\n",
    "S = S.erase_marked_points()"
   ]
  },
  {
   "cell_type": "markdown",
   "id": "1155c8ba",
   "metadata": {},
   "source": [
    "## A Visulation for a Flow Decomposition"
   ]
  },
  {
   "cell_type": "code",
   "execution_count": null,
   "id": "0494035a",
   "metadata": {},
   "outputs": [],
   "source": [
    "from flatsurf import GL2ROrbitClosure\n",
    "O = GL2ROrbitClosure(S)\n",
    "D = O.decomposition((1, 0))"
   ]
  },
  {
   "cell_type": "code",
   "execution_count": null,
   "id": "691d233d",
   "metadata": {},
   "outputs": [],
   "source": [
    "V = FlatSurface(D)\n",
    "print(D)\n",
    "V"
   ]
  },
  {
   "cell_type": "markdown",
   "id": "651dbe8d",
   "metadata": {},
   "source": [
    "## Use the Same Glueings for Another Flow Decomposition\n",
    "Clicking on half edges in the above figure forces edges to be glued. The same gluings will then be replayed in the figure below."
   ]
  },
  {
   "cell_type": "code",
   "execution_count": null,
   "id": "f470ab63",
   "metadata": {},
   "outputs": [],
   "source": [
    "import ipywidgets\n",
    "\n",
    "DD = O.decomposition((0, 1))\n",
    "print(DD)\n",
    "W = FlatSurface(DD)\n",
    "ipywidgets.link((V,'inner'), (W, 'forced'))\n",
    "W"
   ]
  },
  {
   "cell_type": "markdown",
   "id": "2d2112c9",
   "metadata": {},
   "source": [
    "# Passing to a Deformed Surface"
   ]
  },
  {
   "cell_type": "markdown",
   "id": "620599af",
   "metadata": {},
   "source": [
    "We deform the surface with a vector from the tangent space so this is not a billiard anymore."
   ]
  },
  {
   "cell_type": "code",
   "execution_count": null,
   "id": "d9944fa2",
   "metadata": {},
   "outputs": [],
   "source": [
    "for decomposition in O.decompositions(64):\n",
    "    O.update_tangent_space_from_flow_decomposition(decomposition)\n",
    "    if O.dimension() > 2: break\n",
    "\n",
    "tangent = O.lift(O.tangent_space_basis()[2])\n",
    "length = sum(abs(x.parent().number_field(x)) for x in tangent) / len(tangent)\n",
    "\n",
    "upper_bound = 1\n",
    "while upper_bound < length:\n",
    "    upper_bound *= 2\n",
    "    \n",
    "# Shrink the deformation somewhat more so we do not need too many flips.\n",
    "upper_bound *= 64"
   ]
  },
  {
   "cell_type": "code",
   "execution_count": null,
   "id": "ba38166f",
   "metadata": {},
   "outputs": [],
   "source": [
    "from flatsurf.geometry.pyflatsurf_conversion import from_pyflatsurf\n",
    "\n",
    "try:\n",
    "    deformation = [O.V2(x / upper_bound, x / (2*upper_bound)).vector for x in tangent]\n",
    "    deformed = from_pyflatsurf((O._surface + deformation).codomain()).delaunay_triangulation()\n",
    "except Exception:\n",
    "    print(\"The deformation crosses over a vertex. Trying with a smaller deformation.\")\n",
    "    upper_bound *= 2\n",
    "    \n",
    "deformed"
   ]
  },
  {
   "cell_type": "markdown",
   "id": "5a29511b",
   "metadata": {},
   "source": [
    "## Search for Interesting Directions to Visualize"
   ]
  },
  {
   "cell_type": "code",
   "execution_count": null,
   "id": "d405249d",
   "metadata": {},
   "outputs": [],
   "source": [
    "O = GL2ROrbitClosure(deformed)\n",
    "\n",
    "decompositions = {}\n",
    "\n",
    "for decomposition in O.decompositions(64):\n",
    "    if len(decomposition.cylinders()) == 0:\n",
    "        continue\n",
    "    key = (len(decomposition.cylinders()), len(decomposition.minimal_components()))\n",
    "    if key not in decompositions:\n",
    "        decompositions[key] = decomposition\n",
    "    if len(decompositions) >= 2:\n",
    "        break\n",
    "\n",
    "keys = list(decompositions.keys())\n",
    "v0 = decompositions[keys[0]].u\n",
    "v1 = decompositions[keys[1]].u"
   ]
  },
  {
   "cell_type": "code",
   "execution_count": null,
   "id": "b951848a",
   "metadata": {},
   "outputs": [],
   "source": [
    "D = O.decomposition(v0)\n",
    "print(D)\n",
    "FlatSurface(D)"
   ]
  },
  {
   "cell_type": "code",
   "execution_count": null,
   "id": "83ea3032",
   "metadata": {},
   "outputs": [],
   "source": [
    "DD = O.decomposition(v1)\n",
    "print(DD)\n",
    "FlatSurface(DD)"
   ]
  },
  {
   "cell_type": "markdown",
   "id": "06dd9ad9",
   "metadata": {},
   "source": [
    "## Making the Search Directions Orthogonal"
   ]
  },
  {
   "cell_type": "code",
   "execution_count": null,
   "id": "50bc8c06",
   "metadata": {},
   "outputs": [],
   "source": [
    "A = matrix([v0, v1])\n",
    "E = matrix([[1, 0], [0, 1]])\n",
    "N = E * ~A.transpose()"
   ]
  },
  {
   "cell_type": "code",
   "execution_count": null,
   "id": "cfa89bee",
   "metadata": {},
   "outputs": [],
   "source": [
    "T = deformed.apply_matrix(N, in_place=False)\n",
    "T = T.delaunay_triangulation()"
   ]
  },
  {
   "cell_type": "code",
   "execution_count": null,
   "id": "50d150be",
   "metadata": {
    "scrolled": false
   },
   "outputs": [],
   "source": [
    "from flatsurf import GL2ROrbitClosure\n",
    "O = GL2ROrbitClosure(T)\n",
    "D = O.decomposition((E[0]))\n",
    "print(D)\n",
    "V = FlatSurface(D)\n",
    "V"
   ]
  },
  {
   "cell_type": "code",
   "execution_count": null,
   "id": "3cb57a5a",
   "metadata": {},
   "outputs": [],
   "source": [
    "O.decomposition((E[1]))"
   ]
  },
  {
   "cell_type": "markdown",
   "id": "0e796822",
   "metadata": {},
   "source": [
    "Pass to a triangulation that is aligned with the cylinders."
   ]
  },
  {
   "cell_type": "code",
   "execution_count": null,
   "id": "a5c0f81c",
   "metadata": {},
   "outputs": [],
   "source": [
    "T = from_pyflatsurf(D.decomposition.triangulation())\n",
    "T"
   ]
  },
  {
   "cell_type": "markdown",
   "id": "d4ea7ab9",
   "metadata": {},
   "source": [
    "Currently, the minimal components are triangulated in a way that respects their internal structure, see https://github.com/flatsurf/flatsurf/issues/272. This leads to very stretched out pictures.\n",
    "We Delaunay triangulate the interior of such components to make these components shorter."
   ]
  },
  {
   "cell_type": "code",
   "execution_count": null,
   "id": "7a7b27c5",
   "metadata": {},
   "outputs": [],
   "source": [
    "O = GL2ROrbitClosure(T)\n",
    "D = O.decomposition(E[0])\n",
    "S = D.decomposition.surface()\n",
    "noncylinders = D.minimal_components() + D.undetermined_components()\n",
    "\n",
    "inners = []\n",
    "\n",
    "for component in noncylinders:\n",
    "    perimeter = [connection.saddleConnection().source() for connection in component.perimeter()]\n",
    "    \n",
    "    for p in component.perimeter():\n",
    "        connection = p.saddleConnection()\n",
    "        assert connection == type(connection)(S, connection.source())\n",
    "        inner = connection.source()\n",
    "        if not p.boundary():\n",
    "            inners.append(inner)\n",
    "            inners.append(-inner)\n",
    "        while True:\n",
    "            inner = S.nextAtVertex(inner)\n",
    "            if inner in perimeter or -inner in perimeter:\n",
    "                break\n",
    "            inners.append(inner)\n",
    "            inners.append(-inner)\n",
    "    \n",
    "while True:\n",
    "    for inner in inners:\n",
    "        import pyflatsurf\n",
    "        if S.delaunay(inner) == 0:\n",
    "            S.flip(inner)\n",
    "            break\n",
    "    else:\n",
    "        break\n",
    "        \n",
    "T = from_pyflatsurf(S)\n",
    "T"
   ]
  },
  {
   "cell_type": "code",
   "execution_count": null,
   "id": "b9776c37",
   "metadata": {},
   "outputs": [],
   "source": [
    "from flatsurf import GL2ROrbitClosure\n",
    "O = GL2ROrbitClosure(T)\n",
    "D = O.decomposition(E[0])\n",
    "print(D)\n",
    "D"
   ]
  },
  {
   "cell_type": "code",
   "execution_count": null,
   "id": "44c96158",
   "metadata": {},
   "outputs": [],
   "source": [
    "DD = O.decomposition(E[1])\n",
    "print(DD)\n",
    "DD"
   ]
  },
  {
   "cell_type": "markdown",
   "id": "a547a2fb",
   "metadata": {},
   "source": [
    "Now the pictures might be very squeezed, so try to rescale to make things reasonable again."
   ]
  },
  {
   "cell_type": "code",
   "execution_count": null,
   "id": "5d49b0bd",
   "metadata": {},
   "outputs": [],
   "source": [
    "ratios = [float(c.width() / c.height()) for c in D.cylinders()] + [float(c.height() / c.width()) for c in DD.cylinders()]\n",
    "print(f\"Old aspect ratio of cylinders: {ratios}\")\n",
    "\n",
    "# We try to move everything simultaneously close to a 4:3 aspect ratio.\n",
    "target = float(4 / 3)\n",
    "\n",
    "# The factor we would have to multiply each cylinder with to make it 4:3.\n",
    "distance = [target / ratio for ratio in ratios]\n",
    "\n",
    "# We average over these factors.\n",
    "scale = exp(sum([log(d) for d in distance]) / len(distance))\n",
    "\n",
    "# Turn the above factor into something that lives in the number field.\n",
    "scale = ZZ(ceil(scale * 1000)) / 1000\n",
    "ratios = [scale * ratio for ratio in ratios]\n",
    "\n",
    "print(f\"New aspect ratio of cylinders: {ratios}\")\n",
    "A = matrix([[scale, 0], [0, 1]])\n",
    "U = T.apply_matrix(A, in_place=False)"
   ]
  },
  {
   "cell_type": "markdown",
   "id": "25abc282",
   "metadata": {},
   "source": [
    "Glue cylinders in horizontal direction."
   ]
  },
  {
   "cell_type": "code",
   "execution_count": null,
   "id": "7c504d56",
   "metadata": {},
   "outputs": [],
   "source": [
    "O = GL2ROrbitClosure(U)\n",
    "D = O.decomposition((E[0]))\n",
    "print(D)\n",
    "V = FlatSurface(D)\n",
    "\n",
    "forced = []\n",
    "\n",
    "surface = D.decomposition.surface()\n",
    "for cylinder in D.cylinders():\n",
    "    for connection in cylinder.perimeter():\n",
    "        connection = connection.saddleConnection()\n",
    "        assert connection == type(connection)(surface, connection.source())\n",
    "        \n",
    "    perimeter = [connection.saddleConnection().source() for connection in cylinder.perimeter()]\n",
    "    inners = []\n",
    "    \n",
    "    for connection in cylinder.perimeter():\n",
    "        inner = connection.saddleConnection().source()\n",
    "        if not connection.vertical():\n",
    "            inners.append(inner)\n",
    "        while True:\n",
    "            inner = surface.nextAtVertex(inner)\n",
    "            if inner in perimeter or -inner in perimeter:\n",
    "                break\n",
    "            inners.append(inner)\n",
    "\n",
    "    # Force all inner edges except for the one least aligned to the flow direction.\n",
    "    def dot(he):\n",
    "        v = surface.fromHalfEdge(he)\n",
    "        return abs(float(v.x()) * float(E[0][0]) + float(v.y()) * float(E[0][1]))\n",
    "        \n",
    "    smallest = inners[0]\n",
    "    \n",
    "    for inner in inners:\n",
    "        if dot(inner) < dot(smallest):\n",
    "            smallest = inner\n",
    "\n",
    "    forced.extend(list(set([he.id() for he in inners if he != smallest and he != -smallest])))\n",
    "        \n",
    "V.forced = forced\n",
    "V"
   ]
  },
  {
   "cell_type": "code",
   "execution_count": null,
   "id": "9a56eb16",
   "metadata": {},
   "outputs": [],
   "source": [
    "D = O.decomposition((E[1]))\n",
    "W = FlatSurface(D)\n",
    "ipywidgets.link((V,'inner'), (W, 'forced'))\n",
    "print(D)\n",
    "W"
   ]
  }
 ],
 "metadata": {
  "kernelspec": {
   "display_name": "SageMath 9.2",
   "language": "sage",
   "name": "sagemath"
  },
  "language_info": {
   "codemirror_mode": {
    "name": "ipython",
    "version": 3
   },
   "file_extension": ".py",
   "mimetype": "text/x-python",
   "name": "python",
   "nbconvert_exporter": "python",
   "pygments_lexer": "ipython3",
   "version": "3.9.5"
  }
 },
 "nbformat": 4,
 "nbformat_minor": 5
}
