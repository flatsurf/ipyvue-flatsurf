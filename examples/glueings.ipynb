{
 "cells": [
  {
   "cell_type": "markdown",
   "id": "89a2594a",
   "metadata": {},
   "source": [
    "# Unfold a Polygon to create a Translation Surface"
   ]
  },
  {
   "cell_type": "code",
   "execution_count": null,
   "id": "5a8008f4",
   "metadata": {},
   "outputs": [],
   "source": [
    "from ipyvue_flatsurf import FlatSurface\n",
    "from flatsurf import translation_surfaces, polygons, similarity_surfaces"
   ]
  },
  {
   "cell_type": "code",
   "execution_count": null,
   "id": "acd5f55a",
   "metadata": {
    "scrolled": true
   },
   "outputs": [],
   "source": [
    "t = polygons.triangle(1, 1, 3)\n",
    "B = similarity_surfaces.billiard(t)\n",
    "S = B.minimal_cover('translation')"
   ]
  },
  {
   "cell_type": "markdown",
   "id": "1155c8ba",
   "metadata": {},
   "source": [
    "# A Visulation for a Flow Decomposition"
   ]
  },
  {
   "cell_type": "code",
   "execution_count": null,
   "id": "0494035a",
   "metadata": {},
   "outputs": [],
   "source": [
    "from flatsurf import GL2ROrbitClosure\n",
    "O = GL2ROrbitClosure(S)\n",
    "D = O.decomposition((0, 1))"
   ]
  },
  {
   "cell_type": "code",
   "execution_count": null,
   "id": "691d233d",
   "metadata": {},
   "outputs": [],
   "source": [
    "V = FlatSurface(D)\n",
    "V"
   ]
  },
  {
   "cell_type": "markdown",
   "id": "651dbe8d",
   "metadata": {},
   "source": [
    "## Use the Same Glueings for Another Flow Decomposition"
   ]
  },
  {
   "cell_type": "code",
   "execution_count": null,
   "id": "f470ab63",
   "metadata": {},
   "outputs": [],
   "source": [
    "import ipywidgets\n",
    "\n",
    "D = O.decomposition((1, 0))\n",
    "W = FlatSurface(D)\n",
    "ipywidgets.link((V,'inner'), (W, 'forced'))\n",
    "W"
   ]
  }
 ],
 "metadata": {
  "kernelspec": {
   "display_name": "SageMath 9.2",
   "language": "sage",
   "name": "sagemath"
  },
  "language_info": {
   "codemirror_mode": {
    "name": "ipython",
    "version": 3
   },
   "file_extension": ".py",
   "mimetype": "text/x-python",
   "name": "python",
   "nbconvert_exporter": "python",
   "pygments_lexer": "ipython3",
   "version": "3.9.5"
  }
 },
 "nbformat": 4,
 "nbformat_minor": 5
}
