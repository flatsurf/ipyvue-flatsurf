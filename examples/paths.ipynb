{
 "cells": [
  {
   "cell_type": "markdown",
   "id": "891e65b8",
   "metadata": {},
   "source": [
    "# Paths in Flat Triangulations"
   ]
  },
  {
   "cell_type": "markdown",
   "id": "16766d0d",
   "metadata": {},
   "source": [
    "We will draw some paths in a surface and use it to define a deformation. As a simple example, consider the torus."
   ]
  },
  {
   "cell_type": "code",
   "execution_count": null,
   "id": "2d0436cc",
   "metadata": {},
   "outputs": [],
   "source": [
    "from ipyvue_flatsurf import Widget"
   ]
  },
  {
   "cell_type": "code",
   "execution_count": null,
   "id": "86dea5ee",
   "metadata": {},
   "outputs": [],
   "source": [
    "from flatsurf import translation_surfaces\n",
    "T = translation_surfaces.square_torus()\n",
    "W = Widget(T)\n",
    "W"
   ]
  },
  {
   "cell_type": "markdown",
   "id": "9d3c89cb",
   "metadata": {},
   "source": [
    "Execute the following cell. Then draw a path on the above surface. The path may cross above half edges and does not have to be in a straight line but currently it must start and end at a vertex. Press the <kbd>Esc</kbd> key when you are done."
   ]
  },
  {
   "cell_type": "code",
   "execution_count": null,
   "id": "d0862a37",
   "metadata": {},
   "outputs": [],
   "source": [
    "W.path = None\n",
    "path = await W.path"
   ]
  },
  {
   "cell_type": "markdown",
   "id": "2b87d2b6",
   "metadata": {},
   "source": [
    "Internally, the path is represented as a homotopic sequence of saddle connections, in fact, as a sequence of half edges in the surface:"
   ]
  },
  {
   "cell_type": "code",
   "execution_count": null,
   "id": "75e0f1bc",
   "metadata": {},
   "outputs": [],
   "source": [
    "print(path)"
   ]
  },
  {
   "cell_type": "markdown",
   "id": "49b0ded3",
   "metadata": {},
   "source": [
    "To make sense of these half edges in the picture above, we change the numbering of edges to the one used internally:"
   ]
  },
  {
   "cell_type": "code",
   "execution_count": null,
   "id": "d193a0a4",
   "metadata": {},
   "outputs": [],
   "source": [
    "W.labels = 'NUMERIC'"
   ]
  },
  {
   "cell_type": "markdown",
   "id": "dc82ef14",
   "metadata": {},
   "source": [
    "The sequence of half edges might be a bit complicated to understand. We can replace it by a tightened version of the path that does not contain any angles less than π and show that path in the picture above instead:"
   ]
  },
  {
   "cell_type": "code",
   "execution_count": null,
   "id": "9bc234f3",
   "metadata": {},
   "outputs": [],
   "source": [
    "tight = path.tighten()\n",
    "print(tight)\n",
    "W.action = \"glue\"\n",
    "W.path = tight"
   ]
  },
  {
   "cell_type": "markdown",
   "id": "990e84fc",
   "metadata": {},
   "source": [
    "## A more Interesting Surface\n",
    "We will now do the same on a more interesting surface. The unfolding of the (3, 4, 13) triangle."
   ]
  },
  {
   "cell_type": "code",
   "execution_count": null,
   "id": "fd1f52d2",
   "metadata": {},
   "outputs": [],
   "source": [
    "from flatsurf import polygons, similarity_surfaces\n",
    "t = polygons.triangle(3, 4, 13)\n",
    "B = similarity_surfaces.billiard(t)\n",
    "T = B.minimal_cover('translation')\n",
    "T = T.erase_marked_points()"
   ]
  },
  {
   "cell_type": "code",
   "execution_count": null,
   "id": "480e92ac",
   "metadata": {},
   "outputs": [],
   "source": [
    "from ipyvue_flatsurf import Widget\n",
    "W = Widget(T)\n",
    "W.labels = \"NUMERIC\"\n",
    "W"
   ]
  },
  {
   "cell_type": "markdown",
   "id": "5216d18a",
   "metadata": {},
   "source": [
    "Again, we will draw a path on the surface. Press the <kbd>Esc</kbd> key when you are done."
   ]
  },
  {
   "cell_type": "code",
   "execution_count": null,
   "id": "c07fbb8c",
   "metadata": {},
   "outputs": [],
   "source": [
    "W.path = None\n",
    "W.action = None\n",
    "W.action = \"path\"\n",
    "path = await W.path\n",
    "print(path)"
   ]
  },
  {
   "cell_type": "markdown",
   "id": "1b9f9edb",
   "metadata": {},
   "source": [
    "We tighten the path and show the tigthened version instead."
   ]
  },
  {
   "cell_type": "code",
   "execution_count": null,
   "id": "1547b86a",
   "metadata": {},
   "outputs": [],
   "source": [
    "tight = path.tighten()\n",
    "print(tight)\n",
    "W.action = \"glue\"\n",
    "W.path = tight"
   ]
  },
  {
   "cell_type": "markdown",
   "id": "eec19dcf",
   "metadata": {},
   "source": [
    "The path you drew might now consist of more than one saddle connection. Let us focus on the first saddle connection of the path:"
   ]
  },
  {
   "cell_type": "code",
   "execution_count": null,
   "id": "b80f1884",
   "metadata": {},
   "outputs": [],
   "source": [
    "direction = next(iter(tight))\n",
    "W.path = None\n",
    "W.saddle_connections = [direction]"
   ]
  },
  {
   "cell_type": "markdown",
   "id": "d08a3630",
   "metadata": {},
   "source": [
    "We can compute the flow decomposition in the direction defined by this connection:"
   ]
  },
  {
   "cell_type": "code",
   "execution_count": null,
   "id": "4106a39c",
   "metadata": {},
   "outputs": [],
   "source": [
    "from flatsurf import GL2ROrbitClosure\n",
    "O = GL2ROrbitClosure(T)\n",
    "D = O.decomposition(direction.vector()).decomposition\n",
    "S = D.surface()\n",
    "print(D)"
   ]
  },
  {
   "cell_type": "markdown",
   "id": "89cf1e4a",
   "metadata": {},
   "source": [
    "We fix a random cylinder of this flow decomposition and highlight it in the above picture."
   ]
  },
  {
   "cell_type": "code",
   "execution_count": null,
   "id": "04cc9ae1",
   "metadata": {},
   "outputs": [],
   "source": [
    "cylinder = next(iter(component for component in D.components() if component.cylinder()))\n",
    "W.flow_components = [cylinder]"
   ]
  },
  {
   "cell_type": "markdown",
   "id": "cb59a8cf",
   "metadata": {},
   "source": [
    "Let us deform our surface by deforming this cylinder. If we want to deform the cylinder, we can equally deform all the edges the cylinder crosses. We deform the edges corresponding to how often they are crossed by the cylinder.\n",
    "So, let us determine which half edges the cylinder crosses. We walk slightly left of the right side of the cylinder to determine which half edges we cross."
   ]
  },
  {
   "cell_type": "code",
   "execution_count": null,
   "id": "56c628ee",
   "metadata": {},
   "outputs": [],
   "source": [
    "right = list(step.saddleConnection() for step in cylinder.right())\n",
    "\n",
    "crossed = []\n",
    "\n",
    "for at, connection in enumerate(right):\n",
    "    crossed.extend([p.halfEdge() for p in connection.path()])\n",
    "    \n",
    "    target_half_edge = connection.target()\n",
    "    \n",
    "    if connection != type(connection)(S, -target_half_edge):\n",
    "        crossed.append(target_half_edge)\n",
    "        \n",
    "    while True:\n",
    "        target_half_edge = S.previousAtVertex(target_half_edge)\n",
    "        if target_half_edge == right[(at + 1) % len(right)].source(): break\n",
    "        crossed.append(target_half_edge)\n",
    "        \n",
    "print(crossed)"
   ]
  },
  {
   "cell_type": "markdown",
   "id": "3d33feb0",
   "metadata": {},
   "source": [
    "We can now deform the cylinder. We write the deformation as a component in flow direction and one that is aligned with the base of the cylinder. To make the deformation visually appealing for this demo, we deform such that the cylinder gets about fives times as wide as it used to be:"
   ]
  },
  {
   "cell_type": "code",
   "execution_count": null,
   "id": "1df2a031",
   "metadata": {},
   "outputs": [],
   "source": [
    "parallel = direction.vector()\n",
    "nonparallel = list(cylinder.top())[0].saddleConnection().vector()\n",
    "\n",
    "long = 1R\n",
    "wide = 4R # Must be > -1.\n",
    "\n",
    "deformation_vector = long * parallel + wide * nonparallel"
   ]
  },
  {
   "cell_type": "markdown",
   "id": "dcf1b4e7",
   "metadata": {},
   "source": [
    "We count how often each edge is being crossed to construct a deformation:"
   ]
  },
  {
   "cell_type": "code",
   "execution_count": null,
   "id": "69955a37",
   "metadata": {},
   "outputs": [],
   "source": [
    "crossings = {\n",
    "    edge: crossed.count(edge.positive()) - crossed.count(edge.negative())\n",
    "    for edge in S.edges()\n",
    "}\n",
    "print(crossings)"
   ]
  },
  {
   "cell_type": "markdown",
   "id": "97841a03",
   "metadata": {},
   "source": [
    "Now we deform the surface and display the resulting surface:"
   ]
  },
  {
   "cell_type": "code",
   "execution_count": null,
   "id": "74ef6887",
   "metadata": {},
   "outputs": [],
   "source": [
    "deformation = S + [\n",
    "    crossings[edge] * deformation_vector\n",
    "    for edge in S.edges()\n",
    "]"
   ]
  },
  {
   "cell_type": "code",
   "execution_count": null,
   "id": "c15abfa5",
   "metadata": {},
   "outputs": [],
   "source": [
    "from flatsurf.geometry.pyflatsurf_conversion import from_pyflatsurf\n",
    "deformed = deformation.codomain()\n",
    "WW = Widget(deformed)\n",
    "WW"
   ]
  },
  {
   "cell_type": "markdown",
   "id": "9ef30b7b",
   "metadata": {},
   "source": [
    "Probably, that picture is not terribly helpful as the triangulation might have been stretched out extremely in the process.\n",
    "\n",
    "Anyway, we can reconstruct the deformed cylinder in the new surface since we can relate the half edges before and after the deformation:"
   ]
  },
  {
   "cell_type": "code",
   "execution_count": null,
   "id": "0773bd85",
   "metadata": {},
   "outputs": [],
   "source": [
    "O = GL2ROrbitClosure(deformed)\n",
    "D = O.decomposition(direction.vector()).decomposition\n",
    "print(D)"
   ]
  },
  {
   "cell_type": "code",
   "execution_count": null,
   "id": "2a204bee",
   "metadata": {},
   "outputs": [],
   "source": [
    "cylinders = [component for component in D.components() if component.cylinder()]"
   ]
  },
  {
   "cell_type": "code",
   "execution_count": null,
   "id": "a5703ec3",
   "metadata": {},
   "outputs": [],
   "source": [
    "WW.flow_components = cylinders"
   ]
  },
  {
   "cell_type": "code",
   "execution_count": null,
   "id": "c9f167fd",
   "metadata": {},
   "outputs": [],
   "source": [
    "from pyflatsurf import flatsurf\n",
    "\n",
    "Path = flatsurf.Path[type(deformed)]\n",
    "SaddleConnection = type(next(iter(cylinder.right())).saddleConnection())\n",
    "\n",
    "source = next(iter(cylinder.right())).saddleConnection().source()\n",
    "\n",
    "# This sometimes fails due to https://github.com/flatsurf/flatsurf/issues/282\n",
    "source = next(iter(deformation(Path([SaddleConnection(S, source)])).value()))"
   ]
  },
  {
   "cell_type": "code",
   "execution_count": null,
   "id": "0e8f23f9",
   "metadata": {},
   "outputs": [],
   "source": [
    "for component in cylinders:\n",
    "    for connection in component.right():\n",
    "        connection = connection.saddleConnection()\n",
    "        from pyflatsurf import flatsurf\n",
    "        if flatsurf.Vertex.source(source.source(), component.decomposition().surface().combinatorial()) != flatsurf.Vertex.source(connection.source(), component.decomposition().surface().combinatorial()):\n",
    "            continue\n",
    "        if source.ccw(connection) != flatsurf.CCW.CLOCKWISE and source.angle(connection) == 0:\n",
    "            break\n",
    "    else:\n",
    "        continue\n",
    "    break\n",
    "else:\n",
    "    assert(False)\n",
    "\n",
    "print(component)\n",
    "WW.flow_components = [component]"
   ]
  },
  {
   "cell_type": "markdown",
   "id": "5d01df20",
   "metadata": {},
   "source": [
    "## Passing to a Delaunay Triangulation\n",
    "To make the picture easier to understand, we now pass to a Delaunay triangulation of the deformed surface.\n",
    "\n",
    "In principle, it would be enough to just call `deformed.delaunay()`. However, we want to also construct a morphism between the two triangulation so that we can make sense of the flow component in the new triangulation."
   ]
  },
  {
   "cell_type": "code",
   "execution_count": null,
   "id": "5a9016ad",
   "metadata": {},
   "outputs": [],
   "source": [
    "delaunay = deformed.clone()"
   ]
  },
  {
   "cell_type": "code",
   "execution_count": null,
   "id": "ca418c2c",
   "metadata": {},
   "outputs": [],
   "source": [
    "from pyflatsurf import flatsurf\n",
    "trivial = flatsurf.Deformation[type(delaunay)](delaunay.clone())\n",
    "retriangulation = flatsurf.Tracked(delaunay.combinatorial(), deformation)"
   ]
  },
  {
   "cell_type": "code",
   "execution_count": null,
   "id": "e8ee3b90",
   "metadata": {},
   "outputs": [],
   "source": [
    "delaunay.delaunay()"
   ]
  },
  {
   "cell_type": "code",
   "execution_count": null,
   "id": "b13aa20a",
   "metadata": {},
   "outputs": [],
   "source": [
    "import cppyy"
   ]
  },
  {
   "cell_type": "code",
   "execution_count": null,
   "id": "7d53490b",
   "metadata": {},
   "outputs": [],
   "source": [
    "retriangulation = retriangulation.codomain().isomorphism(delaunay).value() * retriangulation.value()"
   ]
  },
  {
   "cell_type": "code",
   "execution_count": null,
   "id": "0a0ef4e1",
   "metadata": {},
   "outputs": [],
   "source": [
    "# This sometimes fails due to https://github.com/flatsurf/flatsurf/issues/282\n",
    "source = list(retriangulation(source).value())[0]"
   ]
  },
  {
   "cell_type": "code",
   "execution_count": null,
   "id": "90c91c6d",
   "metadata": {},
   "outputs": [],
   "source": [
    "WWW = Widget(delaunay)\n",
    "WWW"
   ]
  },
  {
   "cell_type": "code",
   "execution_count": null,
   "id": "1f934f67",
   "metadata": {},
   "outputs": [],
   "source": [
    "O = GL2ROrbitClosure(delaunay)\n",
    "D = O.decomposition(direction.vector()).decomposition\n",
    "print(D)"
   ]
  },
  {
   "cell_type": "code",
   "execution_count": null,
   "id": "922cf265",
   "metadata": {},
   "outputs": [],
   "source": [
    "cylinders = [component for component in D.components() if component.cylinder()]"
   ]
  },
  {
   "cell_type": "code",
   "execution_count": null,
   "id": "a5d1f459",
   "metadata": {},
   "outputs": [],
   "source": [
    "WWW.flow_components = cylinders"
   ]
  },
  {
   "cell_type": "code",
   "execution_count": null,
   "id": "782f9f84",
   "metadata": {},
   "outputs": [],
   "source": [
    "for component in cylinders:\n",
    "    for connection in component.right():\n",
    "        connection = connection.saddleConnection()\n",
    "        from pyflatsurf import flatsurf\n",
    "        if flatsurf.Vertex.source(source.source(), component.decomposition().surface().combinatorial()) != flatsurf.Vertex.source(connection.source(), component.decomposition().surface().combinatorial()):\n",
    "            continue\n",
    "        if source.ccw(connection) != flatsurf.CCW.CLOCKWISE and source.angle(connection) == 0:\n",
    "            break\n",
    "    else:\n",
    "        continue\n",
    "    break\n",
    "else:\n",
    "    assert(False)\n",
    "\n",
    "print(component)\n",
    "WWW.flow_components = []\n",
    "WWW.flow_components = [component]"
   ]
  }
 ],
 "metadata": {
  "kernelspec": {
   "display_name": "SageMath 9.3",
   "language": "sage",
   "name": "sagemath"
  },
  "language_info": {
   "codemirror_mode": {
    "name": "ipython",
    "version": 3
   },
   "file_extension": ".py",
   "mimetype": "text/x-python",
   "name": "python",
   "nbconvert_exporter": "python",
   "pygments_lexer": "ipython3",
   "version": "3.9.7"
  }
 },
 "nbformat": 4,
 "nbformat_minor": 5
}
