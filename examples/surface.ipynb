{
 "cells": [
  {
   "cell_type": "markdown",
   "metadata": {},
   "source": [
    "# Jupyter Widgets"
   ]
  },
  {
   "cell_type": "code",
   "execution_count": 1,
   "metadata": {},
   "outputs": [],
   "source": [
    "from ipyvue_flatsurf import FlatSurface\n",
    "from flatsurf import translation_surfaces, polygons, similarity_surfaces, GL2ROrbitClosure"
   ]
  },
  {
   "cell_type": "code",
   "execution_count": 52,
   "metadata": {},
   "outputs": [],
   "source": [
    "from flatsurf.geometry.pyflatsurf_conversion import from_pyflatsurf, to_pyflatsurf\n",
    "import cppyy\n",
    "cppyy.include('flatsurf/half_edge_intersection.hpp')\n",
    "\n",
    "def erase_marked_points(self):\n",
    "    S = to_pyflatsurf(self)\n",
    "    return S.eliminateMarkedPoints()\n",
    "    # S.delaunay()\n",
    "    # return from_pyflatsurf(S)\n",
    "\n",
    "(a, b, c) = (3, 4, 13)\n",
    "t = polygons.triangle(a,b,c)\n",
    "B = similarity_surfaces.billiard(t) #E.an_element())\n",
    "S = B.minimal_cover('translation')\n",
    "deformation = to_pyflatsurf(S).eliminateMarkedPoints()\n",
    "S = deformation.codomain()\n",
    "O = GL2ROrbitClosure(S)\n",
    "C = iter(O._surface.connections().bound(int(64)).byLength())"
   ]
  },
  {
   "cell_type": "code",
   "execution_count": 53,
   "metadata": {},
   "outputs": [
    {
     "name": "stdout",
     "output_type": "stream",
     "text": [
      "Polygon: (0, 0), (1, 0), (1/2*c0^3 - 3/2*c0, -c0^3 - 3/2*c0^2 + 4*c0 + 5)\n",
      "((-1/2*c0^3 + 3/2*c0 ~ -0.58778525), (-c0^3 - 3/2*c0^2 + 4*c0 + 5 ~ 0.29949154))\n"
     ]
    }
   ],
   "source": [
    "print(t) # (1/2*c0^3 - 3/2*c0, -c0^3 - 3/2*c0^2 + 4*c0 + 5)\n",
    "while True:\n",
    "    d = next(C).vector()\n",
    "    if str(d) == '((-1/2*c0^3 + 3/2*c0 ~ -0.58778525), (-c0^3 - 3/2*c0^2 + 4*c0 + 5 ~ 0.29949154))':\n",
    "        print(d)\n",
    "        break"
   ]
  },
  {
   "cell_type": "code",
   "execution_count": 59,
   "metadata": {},
   "outputs": [
    {
     "name": "stdout",
     "output_type": "stream",
     "text": [
      "Flow decomposition with 8 cylinders, 0 minimal components and 0 undetermined components\n"
     ]
    },
    {
     "data": {
      "application/vnd.jupyter.widget-view+json": {
       "model_id": "62026fb2025341a195dc8fc0bfa45e92",
       "version_major": 2,
       "version_minor": 0
      },
      "text/plain": [
       "FlatSurface(raw='vertices:\\n- - 1\\n  - -3\\n  - -9\\n  - -21\\n  - -36\\n  - 28\\n  - -29\\n  - 30\\n  - -31\\n  - -46…"
      ]
     },
     "metadata": {},
     "output_type": "display_data"
    }
   ],
   "source": [
    "D = O.decomposition(d)\n",
    "print(D)\n",
    "FlatSurface(D, deformation.section())\n",
    "# FlatSurface(from_pyflatsurf(deformation.section().codomain()))"
   ]
  },
  {
   "cell_type": "code",
   "execution_count": 55,
   "metadata": {},
   "outputs": [
    {
     "name": "stdout",
     "output_type": "stream",
     "text": [
      "((1/2*c0^3 - 3/2*c0 ~ 0.58778525), (-c0^3 - 3/2*c0^2 + 4*c0 + 5 ~ 0.29949154))\n"
     ]
    }
   ],
   "source": [
    "while True:\n",
    "    e = next(C).vector()\n",
    "    if str(e) == \"((1/2*c0^3 - 3/2*c0 ~ 0.58778525), (-c0^3 - 3/2*c0^2 + 4*c0 + 5 ~ 0.29949154))\":\n",
    "        print(e)\n",
    "        break"
   ]
  },
  {
   "cell_type": "code",
   "execution_count": 61,
   "metadata": {},
   "outputs": [
    {
     "name": "stdout",
     "output_type": "stream",
     "text": [
      "Flow decomposition with 8 cylinders, 0 minimal components and 0 undetermined components\n"
     ]
    },
    {
     "data": {
      "application/vnd.jupyter.widget-view+json": {
       "model_id": "db3d757eaf324c5f88d7bb53f757cf99",
       "version_major": 2,
       "version_minor": 0
      },
      "text/plain": [
       "FlatSurface(raw='vertices:\\n- - 1\\n  - -3\\n  - -9\\n  - -21\\n  - -36\\n  - 28\\n  - -29\\n  - 30\\n  - -31\\n  - -46…"
      ]
     },
     "metadata": {},
     "output_type": "display_data"
    }
   ],
   "source": [
    "D = O.decomposition(e)\n",
    "print(D)\n",
    "FlatSurface(D, deformation.section())\n",
    "# FlatSurface(from_pyflatsurf(deformation.section().codomain()))"
   ]
  }
 ],
 "metadata": {
  "kernelspec": {
   "display_name": "SageMath 9.2",
   "language": "sage",
   "name": "sagemath"
  },
  "language_info": {
   "codemirror_mode": {
    "name": "ipython",
    "version": 3
   },
   "file_extension": ".py",
   "mimetype": "text/x-python",
   "name": "python",
   "nbconvert_exporter": "python",
   "pygments_lexer": "ipython3",
   "version": "3.7.6"
  }
 },
 "nbformat": 4,
 "nbformat_minor": 4
}
